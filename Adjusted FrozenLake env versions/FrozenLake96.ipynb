{
 "cells": [
  {
   "cell_type": "code",
   "execution_count": 3,
   "id": "97602acb-fdd6-4f86-a2d8-aebbdf7aea5c",
   "metadata": {},
   "outputs": [
    {
     "name": "stdout",
     "output_type": "stream",
     "text": [
      "\n",
      "\u001b[41mS\u001b[0mFFFFFFFF\n",
      "FFFFFHFFF\n",
      "FHFFFFFHF\n",
      "FFHFFFFFF\n",
      "FFFHFFFHF\n",
      "FFHFFFFFH\n",
      "FFFFFHFFF\n",
      "FFFFFFFFF\n",
      "FFFFFFHFG\n"
     ]
    }
   ],
   "source": [
    "\n",
    "import gym\n",
    "import numpy as np\n",
    "import random \n",
    "import sys\n",
    "import matplotlib.pyplot as plt\n",
    "\n",
    "terminal_output = open(1, 'w') \n",
    "\n",
    "# env = gym.make(\"FrozenLake-v1\")\n",
    "env = gym.make(\"FrozenLake8x8-v1\")\n",
    "env.reset()                    \n",
    "env.render()"
   ]
  },
  {
   "cell_type": "code",
   "execution_count": 3,
   "id": "f7855e35-f8ba-427d-82f1-cfb20e1e26cc",
   "metadata": {},
   "outputs": [
    {
     "name": "stdout",
     "output_type": "stream",
     "text": [
      "Action space:  Discrete(4)\n",
      "Observation space:  Discrete(81)\n"
     ]
    }
   ],
   "source": [
    "print(\"Action space: \", env.action_space)\n",
    "print(\"Observation space: \", env.observation_space)"
   ]
  },
  {
   "cell_type": "code",
   "execution_count": 4,
   "id": "4d070af4-c80f-4dd5-8307-fe89a8314262",
   "metadata": {},
   "outputs": [],
   "source": [
    "state_size = env.observation_space.n  # visas būsenų skaičius\n",
    "action_size = env.action_space.n      # visas veiksmų skaičius\n",
    "\n",
    "qtable = np.zeros((state_size, action_size))\n",
    "qtable_history = []\n",
    "score_history = []\n",
    "# print(qtable)"
   ]
  },
  {
   "cell_type": "code",
   "execution_count": 5,
   "id": "a3c5ff2d-4a92-48dc-a2c8-8d5de0ee24a2",
   "metadata": {},
   "outputs": [],
   "source": [
    "# parameterai kuriais varijuojama\n",
    "learning_rate = 0.8 # Apsimokymo dažnis arba learningRate\n",
    "gamma = 0.9  # Nuolaidos dydis arba gamma\n",
    "epsilon = 1.0 # Tyrinėjimo tikimybė\n",
    "max_epsilon = 1.0    # Maksimali tyrinėjimo tikimybės reikšmė\n",
    "min_epsilon = 0.001   # Minimali tyrinėjimo tikimybės reikšmė \n",
    "decay_rate= 0.00005    # Tyrinėjimo tikimybės mažinimo dydis\n",
    "\n",
    "total_episodes = 250000 # Maksimalus iteracijų kiekis\n",
    "max_steps = 400 # Maksimalus žingsnių per vieną iteraciją kiekis"
   ]
  },
  {
   "cell_type": "code",
   "execution_count": 6,
   "id": "e3ece1f7-9855-4662-84d4-a31133429cff",
   "metadata": {},
   "outputs": [
    {
     "name": "stdout",
     "output_type": "stream",
     "text": [
      "Episode: 0 Reward: 0.0 Steps Taken: 1\n",
      "Episode: 10000 Reward: 0.0 Steps Taken: 0\n",
      "Episode: 20000 Reward: 0.0 Steps Taken: 0\n",
      "Episode: 30000 Reward: 0.0 Steps Taken: 5\n",
      "Episode: 40000 Reward: 0.0 Steps Taken: 21\n",
      "Episode: 50000 Reward: 0.0 Steps Taken: 15\n",
      "Episode: 60000 Reward: 0.0 Steps Taken: 23\n",
      "Episode: 70000 Reward: 0.0 Steps Taken: 41\n",
      "Episode: 80000 Reward: 0.0 Steps Taken: 47\n",
      "Episode: 90000 Reward: 1.0 Steps Taken: 104\n",
      "Episode: 100000 Reward: 0.0 Steps Taken: 27\n",
      "Episode: 110000 Reward: 0.0 Steps Taken: 8\n",
      "Episode: 120000 Reward: 1.0 Steps Taken: 74\n",
      "Episode: 130000 Reward: 1.0 Steps Taken: 103\n",
      "Episode: 140000 Reward: 1.0 Steps Taken: 48\n",
      "Episode: 150000 Reward: 1.0 Steps Taken: 69\n",
      "Episode: 160000 Reward: 1.0 Steps Taken: 148\n",
      "Episode: 170000 Reward: 1.0 Steps Taken: 57\n",
      "Episode: 180000 Reward: 1.0 Steps Taken: 102\n",
      "Episode: 190000 Reward: 1.0 Steps Taken: 64\n",
      "Episode: 200000 Reward: 1.0 Steps Taken: 29\n",
      "Episode: 210000 Reward: 1.0 Steps Taken: 91\n",
      "Episode: 220000 Reward: 1.0 Steps Taken: 47\n",
      "Episode: 230000 Reward: 1.0 Steps Taken: 51\n",
      "Episode: 240000 Reward: 1.0 Steps Taken: 98\n"
     ]
    }
   ],
   "source": [
    "rewards = []\n",
    "steps_total = []\n",
    "deadNr = 0\n",
    "passNr = 0\n",
    "\n",
    "for episode in range(total_episodes):\n",
    "    # Aplinka nustatoma iš naujo\n",
    "    state = env.reset()\n",
    "    step = 0\n",
    "    done = False\n",
    "    total_rewards = 0\n",
    "    \n",
    "    print(\"running episode: \"+ str(episode), file=terminal_output)\n",
    "    \n",
    "    for step in range(max_steps):\n",
    "\n",
    "        # generuojamas atsitiktinis skaičius\n",
    "        exp_exp_tradeoff = random.uniform(0, 1)\n",
    "        \n",
    "        # jei generuotas kaičius > epsilon tada naudojamasi Q lentele\n",
    "        if exp_exp_tradeoff > epsilon:\n",
    "            action = np.argmax(qtable[state,:])\n",
    "            #print(exp_exp_tradeoff, \"action\", action)\n",
    "\n",
    "        # jei generuotas kaičius < arba = epsilon tada agentas tyrinėja atsitiktinai\n",
    "        else:\n",
    "            action = env.action_space.sample()\n",
    "            #print(\"action random\", action)\n",
    "            \n",
    "        \n",
    "        # Daromas pasirinktas žingsnis ir stebimi rezultatai\n",
    "        new_state, reward, done, info = env.step(action)\n",
    "\n",
    "        # naudojantis Q funkcija naujimana lentelė\n",
    "        qtable[state, action] = qtable[state, action] + learning_rate * (reward + gamma * np.max(qtable[new_state, :]) - qtable[state, action])\n",
    "        \n",
    "        total_rewards += reward\n",
    "        state = new_state\n",
    "        \n",
    "        # Jei tikslas pasiektas epizodas baigiamas\n",
    "        if done == True: \n",
    "            break\n",
    "        \n",
    "    # epsilon skaičiaus mažinimas, nes jau turime kažkiek išmoktos informacijos\n",
    "    epsilon = min_epsilon + (max_epsilon - min_epsilon)*np.exp(-decay_rate*episode) \n",
    "    rewards.append(total_rewards)\n",
    "    steps_total.append(step)\n",
    "    if episode % 10000 == 0:\n",
    "        print('Episode: {} Reward: {} Steps Taken: {}'.format(episode, reward, step))\n",
    "    \n",
    "    episode_count = episode + 1\n",
    "    if episode_count % 10000 == 0:\n",
    "        qtable_history.append(qtable)\n",
    "        score_history.append(sum(rewards)/episode_count)\n"
   ]
  },
  {
   "cell_type": "code",
   "execution_count": 52,
   "id": "e190a0ed-fd42-4252-abfe-a5b273fd822c",
   "metadata": {},
   "outputs": [
    {
     "data": {
      "image/png": "[encoded data removed]",
      "text/plain": [
       "<Figure size 432x288 with 1 Axes>"
      ]
     },
     "metadata": {
      "needs_background": "light"
     },
     "output_type": "display_data"
    },
    {
     "data": {
      "image/png": "[encoded data removed]",
      "text/plain": [
       "<Figure size 432x288 with 1 Axes>"
      ]
     },
     "metadata": {
      "needs_background": "light"
     },
     "output_type": "display_data"
    },
    {
     "data": {
      "image/png": "[encoded data removed]",
      "text/plain": [
       "<Figure size 432x288 with 1 Axes>"
      ]
     },
     "metadata": {
      "needs_background": "light"
     },
     "output_type": "display_data"
    },
    {
     "name": "stdout",
     "output_type": "stream",
     "text": [
      "Dalis epizodų kurie pasiekė tikslą: 0.731712\n",
      "Dalis epizodų kurie pasiekė tikslą (iš paskutinio 100 epizodų): 0.93\n",
      "Vidutinis žingsnių skaičius: 63.89\n",
      "Vidutinis žingsnių skaičius (iš paskutinio 100 epizodų): 78.81\n"
     ]
    }
   ],
   "source": [
    "plt.plot(list(range(0, total_episodes+1, round((total_episodes+1)/len(score_history))))[1:], score_history)\n",
    "plt.title(\"Apdovanojimų vidurkis lyginant su epizodų skaičiumi\")\n",
    "plt.show()\n",
    "\n",
    "plt.hist(steps_total, orientation=\"vertical\")\n",
    "plt.title(\"Žingsnių skaičius lyginant su epizodų skaičiumi\")\n",
    "plt.show()\n",
    "\n",
    "plt.hist(rewards, align='mid', bins=[-0.10,0.10,0.90,1.10])\n",
    "plt.title(\"Apdovanojimų pasiskirstymas epizoduose\")\n",
    "plt.show()\n",
    "\n",
    "print(\"Dalis epizodų kurie pasiekė tikslą: {0}\".format(sum(rewards)/total_episodes))\n",
    "print(\"Dalis epizodų kurie pasiekė tikslą (iš paskutinio 100 epizodų): {0}\".format(sum(rewards[-100:])/100))\n",
    "\n",
    "print(\"Vidutinis žingsnių skaičius: %.2f\" % (sum(steps_total)/total_episodes))\n",
    "print(\"Vidutinis žingsnių skaičius (iš paskutinio 100 epizodų): %.2f\" % (sum(steps_total[-100:])/100))"
   ]
  },
  {
   "cell_type": "code",
   "execution_count": 54,
   "id": "46a85ed6-df9c-4cd6-a453-12b24fea0c63",
   "metadata": {},
   "outputs": [
    {
     "name": "stdout",
     "output_type": "stream",
     "text": [
      "Number of steps 46\n",
      "Number of steps 112\n",
      "Number of steps 73\n",
      "Number of steps 82\n",
      "Number of steps 141\n",
      "Number of steps 51\n",
      "Number of steps 107\n",
      "Number of steps 57\n",
      "Number of steps 65\n",
      "Number of steps 45\n",
      "Number of steps 65\n",
      "Number of steps 39\n",
      "Number of steps 96\n",
      "Number of steps 167\n",
      "Number of steps 32\n",
      "Number of steps 40\n",
      "Number of steps 75\n",
      "Number of steps 65\n",
      "Number of steps 139\n",
      "Number of steps 97\n",
      "Number of steps 66\n",
      "Number of steps 76\n",
      "Number of steps 110\n",
      "Number of steps 51\n",
      "Number of steps 93\n",
      "Number of steps 14\n",
      "Number of steps 45\n",
      "Number of steps 97\n",
      "Number of steps 50\n",
      "Number of steps 83\n",
      "Number of steps 70\n",
      "Number of steps 43\n",
      "Number of steps 120\n",
      "Number of steps 114\n",
      "Number of steps 33\n",
      "Number of steps 94\n",
      "Number of steps 89\n",
      "Number of steps 43\n",
      "Number of steps 86\n",
      "Number of steps 71\n",
      "Number of steps 57\n",
      "Number of steps 190\n",
      "Number of steps 103\n",
      "Number of steps 23\n",
      "Number of steps 64\n",
      "Number of steps 80\n",
      "Number of steps 76\n",
      "Number of steps 54\n",
      "Number of steps 104\n",
      "Number of steps 56\n",
      "Number of steps 115\n",
      "Number of steps 88\n",
      "Number of steps 53\n",
      "Number of steps 58\n",
      "Number of steps 116\n",
      "Number of steps 88\n",
      "Number of steps 81\n",
      "Number of steps 37\n",
      "Number of steps 81\n",
      "Number of steps 182\n",
      "Number of steps 85\n",
      "Number of steps 108\n",
      "Number of steps 53\n",
      "Number of steps 46\n",
      "Number of steps 72\n",
      "Number of steps 50\n",
      "Number of steps 31\n",
      "Number of steps 96\n",
      "Number of steps 59\n",
      "Number of steps 68\n",
      "Number of steps 137\n",
      "Number of steps 31\n",
      "Number of steps 63\n",
      "Number of steps 68\n",
      "Number of steps 109\n",
      "Number of steps 60\n",
      "Number of steps 57\n",
      "Number of steps 135\n",
      "Number of steps 68\n",
      "Number of steps 42\n",
      "Number of steps 57\n",
      "Number of steps 62\n",
      "Number of steps 87\n",
      "Number of steps 57\n",
      "Number of steps 78\n",
      "Number of steps 49\n",
      "Number of steps 83\n",
      "Number of steps 95\n",
      "Number of steps 124\n",
      "Number of steps 74\n",
      "Number of steps 67\n",
      "Number of steps 134\n",
      "Number of steps 30\n",
      "Number of steps 35\n",
      "Number of steps 60\n",
      "Number of steps 134\n",
      "Number of steps 20\n",
      "Number of steps 121\n",
      "Number of steps 110\n",
      "Number of steps 58\n",
      "Trained model passed: 97 out of 100\n"
     ]
    }
   ],
   "source": [
    "env.reset()\n",
    "amountsPassed = 0\n",
    "amountToTest = 100\n",
    "steps_total_test = []\n",
    "for episode in range(amountToTest):\n",
    "    state = env.reset()\n",
    "    step = 0\n",
    "    done = False\n",
    "    # print(\"****************************************************\")\n",
    "    # print(\"EPISODE \", episode)\n",
    "    # env.render()\n",
    "    \n",
    "    for step in range(max_steps):\n",
    "        \n",
    "        # pasirenkamas geriausias (nešantis didžiausią apdovanojimą) galimas veiksmas naudojantis Q lentele\n",
    "        action = np.argmax(qtable[state,:])\n",
    "        \n",
    "        new_state, reward, done, info = env.step(action)\n",
    "        # env.render()\n",
    "        if done:\n",
    "            if reward == 1.0: \n",
    "                amountsPassed += 1\n",
    "            # env.render()\n",
    "            \n",
    "            print(\"Number of steps\", step)\n",
    "            steps_total_test.append(step)\n",
    "            break\n",
    "        state = new_state\n",
    "print(\"Trained model passed: \"+str(amountsPassed) + \" out of \" + str(amountToTest))\n",
    "env.close()"
   ]
  },
  {
   "cell_type": "code",
   "execution_count": 57,
   "id": "fd551219-1526-43c1-9752-1e94a8fcb90d",
   "metadata": {},
   "outputs": [
    {
     "data": {
      "image/png": "[encoded data removed]",
      "text/plain": [
       "<Figure size 432x288 with 1 Axes>"
      ]
     },
     "metadata": {
      "needs_background": "light"
     },
     "output_type": "display_data"
    },
    {
     "name": "stdout",
     "output_type": "stream",
     "text": [
      "Vidutinis žingsnių skaičius per testą: 77.21\n"
     ]
    }
   ],
   "source": [
    "plt.hist(steps_total_test, orientation=\"vertical\")\n",
    "plt.title(\"Žingsnių skaičius lyginant su epizodų skaičiumi\")\n",
    "plt.show()\n",
    "\n",
    "print(\"Vidutinis žingsnių skaičius per testą: %.2f\" % (sum(steps_total_test)/amountToTest))"
   ]
  },
  {
   "cell_type": "code",
   "execution_count": null,
   "id": "e86f5254-33a2-468c-8b54-07a24bb5ead2",
   "metadata": {},
   "outputs": [],
   "source": []
  }
 ],
 "metadata": {
  "kernelspec": {
   "display_name": "Python 3 (ipykernel)",
   "language": "python",
   "name": "python3"
  },
  "language_info": {
   "codemirror_mode": {
    "name": "ipython",
    "version": 3
   },
   "file_extension": ".py",
   "mimetype": "text/x-python",
   "name": "python",
   "nbconvert_exporter": "python",
   "pygments_lexer": "ipython3",
   "version": "3.7.4"
  }
 },
 "nbformat": 4,
 "nbformat_minor": 5
}
