{
 "cells": [
  {
   "cell_type": "code",
   "execution_count": 3,
   "id": "71c2b0c0-fb80-4568-848c-6c1d75b93680",
   "metadata": {},
   "outputs": [
    {
     "name": "stdout",
     "output_type": "stream",
     "text": [
      "+-----------------+\n",
      "|\u001b[34;1mR\u001b[0m: |\u001b[43m \u001b[0m: : : : | :G|\n",
      "| : | : : : : | : |\n",
      "| : | : : : : | : |\n",
      "| : : : : : : : : |\n",
      "| : : :\u001b[35m \u001b[0m| : : : : |\n",
      "| : : : | : : : : |\n",
      "| : : : | : : : : |\n",
      "| : : : | : : : : |\n",
      "|Y: : : | : : :B: |\n",
      "+-----------------+\n",
      "\n"
     ]
    }
   ],
   "source": [
    "import gym\n",
    "import numpy as np\n",
    "import random \n",
    "import sys\n",
    "import matplotlib.pyplot as plt\n",
    "\n",
    "terminal_output = open(1, 'w') #print logs to terminal\n",
    "\n",
    "# env = gym.make(\"FrozenLake-v1\")\n",
    "env = gym.make('Taxi-v3')\n",
    "env.reset()                    \n",
    "env.render()"
   ]
  },
  {
   "cell_type": "code",
   "execution_count": 4,
   "id": "43e68457-6ebf-404a-93d9-cc3312e2c8ac",
   "metadata": {},
   "outputs": [
    {
     "name": "stdout",
     "output_type": "stream",
     "text": [
      "Action space:  Discrete(6)\n",
      "Observation space:  Discrete(1620)\n"
     ]
    }
   ],
   "source": [
    "print(\"Action space: \", env.action_space)\n",
    "print(\"Observation space: \", env.observation_space)"
   ]
  },
  {
   "cell_type": "code",
   "execution_count": 5,
   "id": "2908e2c6-35d8-47fc-9f2a-fadc7f33ebdf",
   "metadata": {},
   "outputs": [],
   "source": [
    "state_size = env.observation_space.n  # total number of states (S)\n",
    "action_size = env.action_space.n      # total number of actions (A)\n",
    "\n",
    "# initialize a qtable with 0's for all Q-values\n",
    "qtable = np.zeros((state_size, action_size))\n",
    "qtable_history = []\n",
    "score_history = []\n",
    "# print(qtable)"
   ]
  },
  {
   "cell_type": "code",
   "execution_count": 6,
   "id": "b4685cda-4de5-4a6b-b9f4-2cd7d42492b4",
   "metadata": {},
   "outputs": [],
   "source": [
    "# hyperparameters\n",
    "learning_rate = 0.8\n",
    "gamma = 0.9  # Discounting rate, aka gamma\n",
    "epsilon = 1.0\n",
    "max_epsilon = 1.0    # Exploration probability at start\n",
    "min_epsilon = 0.01   # Minimum exploration probability \n",
    "decay_rate= 0.00005    # Exponential decay rate for exploration prob\n",
    "\n",
    "# training variables\n",
    "total_episodes = 250000\n",
    "max_steps = 1000 # per episode"
   ]
  },
  {
   "cell_type": "code",
   "execution_count": 7,
   "id": "5ac14991-a2b3-4602-87ae-e286e0678e1f",
   "metadata": {},
   "outputs": [
    {
     "name": "stdout",
     "output_type": "stream",
     "text": [
      "Episode: 0 Reward: -1000 Episode reward: -313687 Steps Taken: 999 Pasiekė tikslą: 0\n",
      "Episode: 10000 Reward: -1 Episode reward: -193807 Steps Taken: 999 Pasiekė tikslą: 14\n",
      "Episode: 20000 Reward: -1 Episode reward: -137863 Steps Taken: 999 Pasiekė tikslą: 32\n",
      "Episode: 30000 Reward: -1 Episode reward: -75925 Steps Taken: 999 Pasiekė tikslą: 47\n",
      "Episode: 40000 Reward: -1 Episode reward: -53947 Steps Taken: 999 Pasiekė tikslą: 67\n",
      "Episode: 50000 Reward: -1 Episode reward: -31969 Steps Taken: 999 Pasiekė tikslą: 81\n",
      "Episode: 60000 Reward: -1 Episode reward: -18982 Steps Taken: 999 Pasiekė tikslą: 96\n",
      "Episode: 70000 Reward: -1 Episode reward: -10990 Steps Taken: 999 Pasiekė tikslą: 111\n",
      "Episode: 80000 Reward: -1 Episode reward: -7993 Steps Taken: 999 Pasiekė tikslą: 134\n",
      "Episode: 90000 Reward: -1 Episode reward: -9991 Steps Taken: 999 Pasiekė tikslą: 151\n",
      "Episode: 100000 Reward: -1 Episode reward: -4996 Steps Taken: 999 Pasiekė tikslą: 175\n",
      "Episode: 110000 Reward: -1 Episode reward: -7993 Steps Taken: 999 Pasiekė tikslą: 193\n",
      "Episode: 120000 Reward: -1 Episode reward: -1999 Steps Taken: 999 Pasiekė tikslą: 212\n",
      "Episode: 130000 Reward: -1 Episode reward: -4996 Steps Taken: 999 Pasiekė tikslą: 231\n",
      "Episode: 140000 Reward: -1 Episode reward: -5995 Steps Taken: 999 Pasiekė tikslą: 251\n",
      "Episode: 150000 Reward: -1 Episode reward: -2998 Steps Taken: 999 Pasiekė tikslą: 272\n",
      "Episode: 160000 Reward: -1 Episode reward: -4996 Steps Taken: 999 Pasiekė tikslą: 284\n",
      "Episode: 170000 Reward: -1 Episode reward: -2998 Steps Taken: 999 Pasiekė tikslą: 303\n",
      "Episode: 180000 Reward: -1 Episode reward: -4996 Steps Taken: 999 Pasiekė tikslą: 321\n",
      "Episode: 190000 Reward: -1 Episode reward: -1999 Steps Taken: 999 Pasiekė tikslą: 348\n",
      "Episode: 200000 Reward: -1 Episode reward: -1999 Steps Taken: 999 Pasiekė tikslą: 364\n",
      "Episode: 210000 Reward: -1 Episode reward: -3997 Steps Taken: 999 Pasiekė tikslą: 391\n",
      "Episode: 220000 Reward: -1 Episode reward: -8992 Steps Taken: 999 Pasiekė tikslą: 411\n",
      "Episode: 230000 Reward: -1 Episode reward: -8992 Steps Taken: 999 Pasiekė tikslą: 423\n",
      "Episode: 240000 Reward: -1 Episode reward: -3997 Steps Taken: 999 Pasiekė tikslą: 441\n"
     ]
    }
   ],
   "source": [
    "# List of rewards\n",
    "rewards = []\n",
    "steps_total = []\n",
    "passNrLast100 = 0\n",
    "passNr = 0\n",
    "# 2 For life or until learning is stopped\n",
    "for episode in range(total_episodes):\n",
    "    # Reset the environment\n",
    "    state = env.reset()\n",
    "    step = 0\n",
    "    done = False\n",
    "    total_rewards = 0\n",
    "    \n",
    "    print(\"running episode: \"+ str(episode), file=terminal_output)\n",
    "    \n",
    "    for step in range(max_steps):\n",
    "        # 3. Choose an action a in the current world state (s)\n",
    "        ## First we randomize a number\n",
    "        exp_exp_tradeoff = random.uniform(0, 1)\n",
    "        \n",
    "        ## If this number > greater than epsilon --> exploitation (taking the biggest Q value for this state)\n",
    "        if exp_exp_tradeoff > epsilon:\n",
    "            action = np.argmax(qtable[state,:])\n",
    "            #print(exp_exp_tradeoff, \"action\", action)\n",
    "\n",
    "        # Else doing a random choice --> exploration\n",
    "        else:\n",
    "            action = env.action_space.sample()\n",
    "            #print(\"action random\", action)\n",
    "            \n",
    "        \n",
    "        # Take the action (a) and observe the outcome state(s') and reward (r)\n",
    "        new_state, reward, done, info = env.step(action)\n",
    "\n",
    "        # Update Q(s,a):= Q(s,a) + lr [R(s,a) + gamma * max Q(s',a') - Q(s,a)]\n",
    "        # qtable[new_state,:] : all the actions we can take from new state\n",
    "        qtable[state, action] = qtable[state, action] + learning_rate * (reward + gamma * np.max(qtable[new_state, :]) - qtable[state, action])\n",
    "        \n",
    "        total_rewards += reward\n",
    "        \n",
    "        # Our new state is state\n",
    "        state = new_state\n",
    "        \n",
    "        # If done (if we're dead) : finish episode\n",
    "        if done == True: \n",
    "            break\n",
    "        \n",
    "    # Reduce epsilon (because we need less and less exploration)\n",
    "    epsilon = min_epsilon + (max_epsilon - min_epsilon)*np.exp(-decay_rate*episode) \n",
    "    rewards.append(total_rewards)\n",
    "    steps_total.append(step)\n",
    "    if reward == 2000:\n",
    "        passNr += 1\n",
    "        \n",
    "    if reward == 2000 and episode>=(total_episodes-100):\n",
    "        passNrLast100 += 1\n",
    "        \n",
    "    if episode % 10000 == 0:\n",
    "        print('Episode: {} Reward: {} Episode reward: {} Steps Taken: {} Pasiekė tikslą: {}'.format(episode, reward, total_rewards, step, passNr))\n",
    "    \n",
    "    episode_count = episode + 1\n",
    "    if episode_count % 10000 == 0:\n",
    "        qtable_history.append(qtable)\n",
    "        score_history.append(sum(rewards)/episode_count)\n",
    "        # save_canvas(qtable, 800, 800, filename = \"./output/FrozenLake_ep\" + str(episode_count) + \".png\")\n"
   ]
  },
  {
   "cell_type": "code",
   "execution_count": 8,
   "id": "fb61ab96-9e92-4a12-876e-c2b8a26f2b6c",
   "metadata": {},
   "outputs": [
    {
     "data": {
      "image/png": "[encoded data removed]",
      "text/plain": [
       "<Figure size 432x288 with 1 Axes>"
      ]
     },
     "metadata": {
      "needs_background": "light"
     },
     "output_type": "display_data"
    },
    {
     "data": {
      "image/png": "[encoded data removed]",
      "text/plain": [
       "<Figure size 432x288 with 1 Axes>"
      ]
     },
     "metadata": {
      "needs_background": "light"
     },
     "output_type": "display_data"
    },
    {
     "data": {
      "image/png": "[encoded data removed]",
      "text/plain": [
       "<Figure size 432x288 with 1 Axes>"
      ]
     },
     "metadata": {
      "needs_background": "light"
     },
     "output_type": "display_data"
    },
    {
     "name": "stdout",
     "output_type": "stream",
     "text": [
      "Dalis epizodų kurie pasiekė tikslą: 0.00184\n",
      "Dalis epizodų kurie pasiekė tikslą (iš paskutinio 100 epizodų): 0.0\n",
      "Vidutinis žingsnių skaičius: 997.18\n",
      "Vidutinis žingsnių skaičius (iš paskutinio 100 epizodų): 999.00\n"
     ]
    }
   ],
   "source": [
    "plt.plot(list(range(0, total_episodes+1, round((total_episodes+1)/len(score_history))))[1:], score_history)\n",
    "plt.title(\"Apdovanojimų vidurkis lyginant su epizodų skaičiumi\")\n",
    "plt.show()\n",
    "\n",
    "plt.hist(steps_total, orientation=\"vertical\")\n",
    "plt.title(\"Žingsnių skaičius lyginant su epizodų skaičiumi\")\n",
    "plt.show()\n",
    "\n",
    "plt.hist(rewards, align='mid')\n",
    "plt.title(\"Apdovanojimų pasiskirstymas epizoduose\")\n",
    "plt.show()\n",
    "\n",
    "print(\"Dalis epizodų kurie pasiekė tikslą: {0}\".format(passNr/total_episodes))\n",
    "print(\"Dalis epizodų kurie pasiekė tikslą (iš paskutinio 100 epizodų): {0}\".format(passNrLast100/100))\n",
    "\n",
    "print(\"Vidutinis žingsnių skaičius: %.2f\" % (sum(steps_total)/total_episodes))\n",
    "print(\"Vidutinis žingsnių skaičius (iš paskutinio 100 epizodų): %.2f\" % (sum(steps_total[-100:])/100))"
   ]
  },
  {
   "cell_type": "code",
   "execution_count": null,
   "id": "50798512-8e32-4c2d-94b6-a98f435794ed",
   "metadata": {},
   "outputs": [],
   "source": [
    "env.reset()\n",
    "amountsPassed = 0\n",
    "amountToTest = 100\n",
    "steps_total_test = []\n",
    "for episode in range(amountToTest):\n",
    "    state = env.reset()\n",
    "    step = 0\n",
    "    done = False\n",
    "    # print(\"****************************************************\")\n",
    "    # print(\"EPISODE \", episode)\n",
    "    # env.render()\n",
    "    \n",
    "    for step in range(max_steps):\n",
    "        \n",
    "        # Take the action (index) that have the maximum expected future reward given that state\n",
    "        action = np.argmax(qtable[state,:])\n",
    "        \n",
    "        new_state, reward, done, info = env.step(action)\n",
    "        # env.render()\n",
    "        if done:\n",
    "            # Here, we decide to only print the last state (to see if our agent is on the goal or fall into an hole)\n",
    "            if reward == 2000: \n",
    "                amountsPassed += 1\n",
    "            # env.render()\n",
    "            \n",
    "            # We print the number of step it took.\n",
    "            print(\"Number of steps\", step)\n",
    "            steps_total_test.append(step)\n",
    "            break\n",
    "        state = new_state\n",
    "print(\"Trained model passed: \"+str(amountsPassed) + \" out of \" + str(amountToTest))\n",
    "env.close()\n"
   ]
  },
  {
   "cell_type": "code",
   "execution_count": null,
   "id": "1c184831-a9f6-4d4c-9f02-c5cf0a9538af",
   "metadata": {},
   "outputs": [],
   "source": [
    "plt.hist(steps_total_test, orientation=\"vertical\")\n",
    "plt.title(\"Žingsnių skaičius lyginant su epizodų skaičiumi\")\n",
    "plt.show()\n",
    "\n",
    "print(\"Vidutinis žingsnių skaičius per testą: %.2f\" % (sum(steps_total_test)/amountToTest))"
   ]
  },
  {
   "cell_type": "code",
   "execution_count": null,
   "id": "c625539c-8780-4a79-b015-c9379afb77d6",
   "metadata": {},
   "outputs": [],
   "source": []
  }
 ],
 "metadata": {
  "kernelspec": {
   "display_name": "Python 3 (ipykernel)",
   "language": "python",
   "name": "python3"
  },
  "language_info": {
   "codemirror_mode": {
    "name": "ipython",
    "version": 3
   },
   "file_extension": ".py",
   "mimetype": "text/x-python",
   "name": "python",
   "nbconvert_exporter": "python",
   "pygments_lexer": "ipython3",
   "version": "3.7.4"
  }
 },
 "nbformat": 4,
 "nbformat_minor": 5
}
