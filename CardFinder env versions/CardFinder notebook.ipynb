{
 "cells": [
  {
   "cell_type": "code",
   "execution_count": 1,
   "id": "97602acb-fdd6-4f86-a2d8-aebbdf7aea5c",
   "metadata": {},
   "outputs": [
    {
     "name": "stdout",
     "output_type": "stream",
     "text": [
      "\n",
      "\u001b[41mS\u001b[0mFFHHFHFF\n",
      "FHHFFFHFF\n",
      "FFHFFHFFF\n",
      "FHFHFFHFF\n",
      "HHFHFFFFF\n",
      "FFFHFFHFF\n",
      "FFHFFHHFF\n",
      "FFHFFFFFH\n",
      "HFFFFHFFG\n"
     ]
    }
   ],
   "source": [
    "import gym\n",
    "import numpy as np\n",
    "import random \n",
    "import sys\n",
    "import matplotlib.pyplot as plt\n",
    "\n",
    "terminal_output = open(1, 'w')\n",
    "\n",
    "env = gym.make(\"CardFinder-v1\")\n",
    "env.reset()                    \n",
    "env.render()"
   ]
  },
  {
   "cell_type": "code",
   "execution_count": 2,
   "id": "f7855e35-f8ba-427d-82f1-cfb20e1e26cc",
   "metadata": {},
   "outputs": [
    {
     "name": "stdout",
     "output_type": "stream",
     "text": [
      "Action space:  Discrete(4)\n",
      "Observation space:  Discrete(81)\n"
     ]
    }
   ],
   "source": [
    "print(\"Action space: \", env.action_space)\n",
    "print(\"Observation space: \", env.observation_space)"
   ]
  },
  {
   "cell_type": "code",
   "execution_count": 3,
   "id": "4d070af4-c80f-4dd5-8307-fe89a8314262",
   "metadata": {},
   "outputs": [],
   "source": [
    "state_size = env.observation_space.n  # visas būsenų skaičius\n",
    "action_size = env.action_space.n      # visas veiksmų skaičius\n",
    "qtable = np.zeros((state_size, action_size)) # generuojama Q lentelė ir ji užpildoma nuliais\n",
    "qtable_history = []\n",
    "score_history = []\n",
    "# print(qtable)"
   ]
  },
  {
   "cell_type": "code",
   "execution_count": 4,
   "id": "a3c5ff2d-4a92-48dc-a2c8-8d5de0ee24a2",
   "metadata": {},
   "outputs": [],
   "source": [
    "# parameterai kuriais varijuojama\n",
    "learning_rate = 0.8 # Apsimokymo dažnis arba learningRate\n",
    "gamma = 0.9  # Nuolaidos dydis arba gamma\n",
    "epsilon = 1.0 # Tyrinėjimo tikimybė\n",
    "max_epsilon = 1.0    # Maksimali tyrinėjimo tikimybės reikšmė\n",
    "min_epsilon = 0.001   # Minimali tyrinėjimo tikimybės reikšmė \n",
    "decay_rate= 0.00005    # Tyrinėjimo tikimybės mažinimo dydis\n",
    "\n",
    "total_episodes = 250000 # Maksimalus iteracijų kiekis\n",
    "max_steps = 400 # Maksimalus žingsnių per vieną iteraciją kiekis \n",
    "\n",
    "# learning_rate = 0.8\n",
    "# gamma = 0.9  \n",
    "# epsilon = 1.0\n",
    "# max_epsilon = 1.0    \n",
    "# min_epsilon = 0.001   \n",
    "# decay_rate= 0.00005    \n",
    "\n",
    "# total_episodes = 250000\n",
    "# max_steps = 400"
   ]
  },
  {
   "cell_type": "code",
   "execution_count": 5,
   "id": "e3ece1f7-9855-4662-84d4-a31133429cff",
   "metadata": {},
   "outputs": [
    {
     "name": "stdout",
     "output_type": "stream",
     "text": [
      "Episode: 0 Reward: 20 Episode reward: -1221 Steps Taken: 350 Pasiekė tikslą: 1\n",
      "Episode: 10000 Reward: 20 Episode reward: -103 Steps Taken: 51 Pasiekė tikslą: 9454\n",
      "Episode: 20000 Reward: 20 Episode reward: -184 Steps Taken: 132 Pasiekė tikslą: 19449\n",
      "Episode: 30000 Reward: 20 Episode reward: -212 Steps Taken: 196 Pasiekė tikslą: 29346\n",
      "Episode: 40000 Reward: -1 Episode reward: -427 Steps Taken: 399 Pasiekė tikslą: 38597\n",
      "Episode: 50000 Reward: -1 Episode reward: -409 Steps Taken: 399 Pasiekė tikslą: 46204\n",
      "Episode: 60000 Reward: -1 Episode reward: -418 Steps Taken: 399 Pasiekė tikslą: 51627\n",
      "Episode: 70000 Reward: -1 Episode reward: -400 Steps Taken: 399 Pasiekė tikslą: 54769\n",
      "Episode: 80000 Reward: -1 Episode reward: -400 Steps Taken: 399 Pasiekė tikslą: 56290\n",
      "Episode: 90000 Reward: -1 Episode reward: -400 Steps Taken: 399 Pasiekė tikslą: 56813\n",
      "Episode: 100000 Reward: -1 Episode reward: -400 Steps Taken: 399 Pasiekė tikslą: 56980\n",
      "Episode: 110000 Reward: -1 Episode reward: -400 Steps Taken: 399 Pasiekė tikslą: 57023\n",
      "Episode: 120000 Reward: -1 Episode reward: -400 Steps Taken: 399 Pasiekė tikslą: 57041\n",
      "Episode: 130000 Reward: -1 Episode reward: -400 Steps Taken: 399 Pasiekė tikslą: 57046\n",
      "Episode: 140000 Reward: -1 Episode reward: -400 Steps Taken: 399 Pasiekė tikslą: 57049\n",
      "Episode: 150000 Reward: -1 Episode reward: -400 Steps Taken: 399 Pasiekė tikslą: 57049\n",
      "Episode: 160000 Reward: -1 Episode reward: -400 Steps Taken: 399 Pasiekė tikslą: 57049\n",
      "Episode: 170000 Reward: -1 Episode reward: -400 Steps Taken: 399 Pasiekė tikslą: 57049\n",
      "Episode: 180000 Reward: -1 Episode reward: -400 Steps Taken: 399 Pasiekė tikslą: 57049\n",
      "Episode: 190000 Reward: -1 Episode reward: -400 Steps Taken: 399 Pasiekė tikslą: 57049\n",
      "Episode: 200000 Reward: -1 Episode reward: -400 Steps Taken: 399 Pasiekė tikslą: 57049\n",
      "Episode: 210000 Reward: -1 Episode reward: -400 Steps Taken: 399 Pasiekė tikslą: 57049\n",
      "Episode: 220000 Reward: -1 Episode reward: -400 Steps Taken: 399 Pasiekė tikslą: 57049\n",
      "Episode: 230000 Reward: -1 Episode reward: -400 Steps Taken: 399 Pasiekė tikslą: 57050\n",
      "Episode: 240000 Reward: -1 Episode reward: -400 Steps Taken: 399 Pasiekė tikslą: 57050\n"
     ]
    }
   ],
   "source": [
    "rewards = []\n",
    "steps_total = []\n",
    "passNr = 0\n",
    "passNrLast100 = 0\n",
    "\n",
    "for episode in range(total_episodes):\n",
    "    # Aplinka nustatoma iš naujo\n",
    "    state = env.reset()\n",
    "    step = 0\n",
    "    done = False\n",
    "    total_rewards = 0\n",
    "    \n",
    "    print(\"Epizodas: \"+ str(episode), file=terminal_output)\n",
    "    \n",
    "    for step in range(max_steps):\n",
    "\n",
    "        # generuojamas atsitiktinis skaičius\n",
    "        exp_exp_tradeoff = random.uniform(0, 1)\n",
    "        \n",
    "        # jei generuotas kaičius > epsilon tada naudojamasi Q lentele\n",
    "        if exp_exp_tradeoff > epsilon:\n",
    "            action = np.argmax(qtable[state,:])\n",
    "            #print(exp_exp_tradeoff, \"action\", action)\n",
    "\n",
    "        # jei generuotas kaičius < arba = epsilon tada agentas tyrinėja atsitiktinai\n",
    "        else:\n",
    "            action = env.action_space.sample()\n",
    "            #print(\"action random\", action)\n",
    "            \n",
    "        \n",
    "        # Daromas pasirinktas žingsnis ir stebimi rezultatai\n",
    "        new_state, reward, done, info = env.step(action)\n",
    "        if reward == 20:\n",
    "            passNr += 1\n",
    "            \n",
    "        # naudojantis Q funkcija naujimana lentelė\n",
    "        # Funkcija Q(s,a):= Q(s,a) + lr [R(s,a) + gamma * max Q(s',a') - Q(s,a)]\n",
    "        qtable[state, action] = qtable[state, action] + learning_rate * (reward + gamma * np.max(qtable[new_state, :]) - qtable[state, action])\n",
    "        \n",
    "        total_rewards += reward\n",
    "\n",
    "        # po to kai viskas atnaujinama dabar tinė būsena pakeičiama\n",
    "        state = new_state\n",
    "        \n",
    "        # Jei tikslas pasiektas epizodas baigiamas\n",
    "        if done == True: \n",
    "            break\n",
    "        \n",
    "    # epsilon skaičiaus mažinimas, nes jau turime kažkiek išmoktos informacijos\n",
    "    epsilon = min_epsilon + (max_epsilon - min_epsilon)*np.exp(-decay_rate*episode) \n",
    "    rewards.append(total_rewards)\n",
    "    steps_total.append(step)\n",
    "    \n",
    "    if reward == 20 and episode>=(total_episodes-100):\n",
    "        passNrLast100 += 1\n",
    "        \n",
    "    if episode % 10000 == 0:\n",
    "        print('Episode: {} Reward: {} Episode reward: {} Steps Taken: {} Pasiekė tikslą: {}'.format(episode, reward, total_rewards, step, passNr))\n",
    "    \n",
    "    episode_count = episode + 1\n",
    "    if episode_count % 10000 == 0:\n",
    "        qtable_history.append(qtable)\n",
    "        score_history.append(sum(rewards)/episode_count)\n"
   ]
  },
  {
   "cell_type": "code",
   "execution_count": 6,
   "id": "e190a0ed-fd42-4252-abfe-a5b273fd822c",
   "metadata": {},
   "outputs": [
    {
     "data": {
      "image/png": "[encoded data removed]",
      "text/plain": [
       "<Figure size 432x288 with 1 Axes>"
      ]
     },
     "metadata": {
      "needs_background": "light"
     },
     "output_type": "display_data"
    },
    {
     "data": {
      "image/png": "[encoded data removed]",
      "text/plain": [
       "<Figure size 432x288 with 1 Axes>"
      ]
     },
     "metadata": {
      "needs_background": "light"
     },
     "output_type": "display_data"
    },
    {
     "data": {
      "image/png": "[encoded data removed]",
      "text/plain": [
       "<Figure size 432x288 with 1 Axes>"
      ]
     },
     "metadata": {
      "needs_background": "light"
     },
     "output_type": "display_data"
    },
    {
     "name": "stdout",
     "output_type": "stream",
     "text": [
      "Dalis epizodų kurie pasiekė tikslą: 0.2282\n",
      "Dalis epizodų kurie pasiekė tikslą (iš paskutinio 100 epizodų): 0.0\n",
      "Vidutinis žingsnių skaičius: 341.46\n",
      "Vidutinis žingsnių skaičius (iš paskutinio 100 epizodų): 399.00\n"
     ]
    }
   ],
   "source": [
    "plt.plot(list(range(0, total_episodes+1, round((total_episodes+1)/len(score_history))))[1:], score_history)\n",
    "plt.title(\"Apdovanojimų vidurkis lyginant su epizodų skaičiumi\")\n",
    "plt.show()\n",
    "\n",
    "plt.hist(steps_total, orientation=\"vertical\")\n",
    "plt.title(\"Žingsnių skaičius lyginant su epizodų skaičiumi\")\n",
    "plt.show()\n",
    "\n",
    "plt.hist(rewards, align='mid')\n",
    "plt.title(\"Apdovanojimų pasiskirstymas epizoduose\")\n",
    "plt.show()\n",
    "\n",
    "print(\"Dalis epizodų kurie pasiekė tikslą: {0}\".format(passNr/total_episodes))\n",
    "print(\"Dalis epizodų kurie pasiekė tikslą (iš paskutinio 100 epizodų): {0}\".format(passNrLast100/100))\n",
    "\n",
    "print(\"Vidutinis žingsnių skaičius: %.2f\" % (sum(steps_total)/total_episodes))\n",
    "print(\"Vidutinis žingsnių skaičius (iš paskutinio 100 epizodų): %.2f\" % (sum(steps_total[-100:])/100))"
   ]
  },
  {
   "cell_type": "code",
   "execution_count": 7,
   "id": "46a85ed6-df9c-4cd6-a453-12b24fea0c63",
   "metadata": {},
   "outputs": [
    {
     "name": "stdout",
     "output_type": "stream",
     "text": [
      "Trained model passed: 0 out of 100\n"
     ]
    }
   ],
   "source": [
    "env.reset()\n",
    "amountsPassed = 0\n",
    "amountToTest = 100\n",
    "steps_total_test = []\n",
    "for episode in range(amountToTest):\n",
    "    state = env.reset()\n",
    "    step = 0\n",
    "    done = False\n",
    "    # print(\"****************************************************\")\n",
    "    # print(\"EPISODE \", episode)\n",
    "    # env.render()\n",
    "    \n",
    "    for step in range(max_steps):\n",
    "        \n",
    "        # pasirenkamas geriausias (nešantis didžiausią apdovanojimą) galimas veiksmas naudojantis Q lentele\n",
    "        action = np.argmax(qtable[state,:])\n",
    "        \n",
    "        new_state, reward, done, info = env.step(action)\n",
    "        # print(\"Reward\", reward)\n",
    "        # env.render()\n",
    "        if done:\n",
    "            if reward == 20: \n",
    "                amountsPassed += 1\n",
    "            # env.render()\n",
    "            \n",
    "            # print(\"steps\", step)\n",
    "            steps_total_test.append(step)\n",
    "            break\n",
    "        state = new_state\n",
    "print(\"Apmokytas modelis teisingai išsprendė: \"+str(amountsPassed) + \" iš \" + str(amountToTest))\n",
    "env.close()"
   ]
  },
  {
   "cell_type": "code",
   "execution_count": 8,
   "id": "fd551219-1526-43c1-9752-1e94a8fcb90d",
   "metadata": {},
   "outputs": [
    {
     "data": {
      "image/png": "[encoded data removed]",
      "text/plain": [
       "<Figure size 432x288 with 1 Axes>"
      ]
     },
     "metadata": {
      "needs_background": "light"
     },
     "output_type": "display_data"
    },
    {
     "name": "stdout",
     "output_type": "stream",
     "text": [
      "Vidutinis žingsnių skaičius per testą: 399.00\n"
     ]
    }
   ],
   "source": [
    "plt.hist(steps_total_test, orientation=\"vertical\")\n",
    "plt.title(\"Žingsnių skaičius lyginant su epizodų skaičiumi\")\n",
    "plt.show()\n",
    "\n",
    "print(\"Vidutinis žingsnių skaičius per testą: %.2f\" % (sum(steps_total_test)/amountToTest))"
   ]
  },
  {
   "cell_type": "code",
   "execution_count": null,
   "id": "e86f5254-33a2-468c-8b54-07a24bb5ead2",
   "metadata": {},
   "outputs": [],
   "source": []
  }
 ],
 "metadata": {
  "kernelspec": {
   "display_name": "Python 3 (ipykernel)",
   "language": "python",
   "name": "python3"
  },
  "language_info": {
   "codemirror_mode": {
    "name": "ipython",
    "version": 3
   },
   "file_extension": ".py",
   "mimetype": "text/x-python",
   "name": "python",
   "nbconvert_exporter": "python",
   "pygments_lexer": "ipython3",
   "version": "3.7.4"
  }
 },
 "nbformat": 4,
 "nbformat_minor": 5
}
