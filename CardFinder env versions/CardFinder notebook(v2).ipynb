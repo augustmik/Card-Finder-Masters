{
 "cells": [
  {
   "cell_type": "code",
   "execution_count": 1,
   "id": "97602acb-fdd6-4f86-a2d8-aebbdf7aea5c",
   "metadata": {},
   "outputs": [
    {
     "name": "stdout",
     "output_type": "stream",
     "text": [
      "[[29 72 70  2  8 41 39 27 46]\n",
      " [ 9 45 18 49 71  3 75 44 13]\n",
      " [16  6 42 51 48 19 69 61 10]\n",
      " [32  0 15 40 66 64 73 31 65]\n",
      " [ 5 52 11 25  1 60 24 58 79]\n",
      " [36 37 20  4 80 33 77 21 78]\n",
      " [38 47  7 35 54 34 76 62 17]\n",
      " [12 55 22 57 59 67 23 68 43]\n",
      " [28 74 50 53 26 56 14 63 30]]\n",
      "\n",
      "\u001b[41mS\u001b[0mNNNNNNN-\n",
      "N-T-NTN-N\n",
      "N-NN-NNN-\n",
      "N--NNNNNN\n",
      "NTNN-NNN-\n",
      "--NNNNN-N\n",
      "N-NNN-NNN\n",
      "-T--NNNNN\n",
      "N--NNNN-L\n"
     ]
    }
   ],
   "source": [
    "import gym\n",
    "import numpy as np\n",
    "import random \n",
    "import sys\n",
    "import matplotlib.pyplot as plt\n",
    "\n",
    "terminal_output = open(1, 'w')\n",
    "\n",
    "env = gym.make(\"CardFinder-v1\")\n",
    "env.reset()                    \n",
    "env.render()"
   ]
  },
  {
   "cell_type": "code",
   "execution_count": 2,
   "id": "f7855e35-f8ba-427d-82f1-cfb20e1e26cc",
   "metadata": {},
   "outputs": [
    {
     "name": "stdout",
     "output_type": "stream",
     "text": [
      "Action space:  Discrete(5)\n",
      "Observation space:  Discrete(81)\n"
     ]
    }
   ],
   "source": [
    "print(\"Action space: \", env.action_space)\n",
    "print(\"Observation space: \", env.observation_space)"
   ]
  },
  {
   "cell_type": "code",
   "execution_count": 3,
   "id": "4d070af4-c80f-4dd5-8307-fe89a8314262",
   "metadata": {},
   "outputs": [],
   "source": [
    "state_size = env.observation_space.n  # visas būsenų skaičius\n",
    "action_size = env.action_space.n      # visas veiksmų skaičius\n",
    "qtable = np.zeros((state_size, action_size)) # generuojama Q lentelė ir ji užpildoma nuliais\n",
    "\n",
    "qtable_history = []\n",
    "score_history = []\n",
    "# print(qtable)"
   ]
  },
  {
   "cell_type": "code",
   "execution_count": 4,
   "id": "a3c5ff2d-4a92-48dc-a2c8-8d5de0ee24a2",
   "metadata": {},
   "outputs": [],
   "source": [
    "# parameterai kuriais varijuojama\n",
    "learning_rate = 0.9 # Apsimokymo dažnis arba learningRate\n",
    "gamma = 0.9  # Nuolaidos dydis arba gamma\n",
    "epsilon = 1.0 # Tyrinėjimo tikimybė\n",
    "max_epsilon = 1.0    # Maksimali tyrinėjimo tikimybės reikšmė\n",
    "min_epsilon = 0.001   # Minimali tyrinėjimo tikimybės reikšmė\n",
    "decay_rate= 0.01    # Tyrinėjimo tikimybės mažinimo dydis\n",
    "total_episodes = 15 # Maksimalus iteracijų kiekis\n",
    "max_steps = 400 # Maksimalus žingsnių per vieną iteraciją kiekis "
   ]
  },
  {
   "cell_type": "code",
   "execution_count": 5,
   "id": "e3ece1f7-9855-4662-84d4-a31133429cff",
   "metadata": {},
   "outputs": [
    {
     "name": "stdout",
     "output_type": "stream",
     "text": [
      "Episode: 0 Reward: 100 Episode reward: -295 Steps Taken: 48 Pasiekė tikslą: 1\n"
     ]
    }
   ],
   "source": [
    "rewards = []\n",
    "steps_total = []\n",
    "passNr = 0\n",
    "passNrLast100 = 0\n",
    "\n",
    "for episode in range(total_episodes):\n",
    "    # Aplinka nustatoma iš naujo\n",
    "    state = env.reset()\n",
    "    step = 1\n",
    "    done = False\n",
    "    total_rewards = 0\n",
    "    \n",
    "    print(\"Epizodas: \"+ str(episode), file=terminal_output)\n",
    "    \n",
    "    for step in range(max_steps):\n",
    "\n",
    "        # generuojamas atsitiktinis skaičius\n",
    "        exp_exp_tradeoff = random.uniform(0, 1)\n",
    "        \n",
    "        # jei generuotas kaičius > epsilon tada naudojamasi Q lentele\n",
    "        if exp_exp_tradeoff > epsilon:\n",
    "            action = np.argmax(qtable[state,:])\n",
    "\n",
    "        # jei generuotas kaičius < arba = epsilon tada agentas tyrinėja atsitiktinai\n",
    "        else:\n",
    "            action = env.action_space.sample()\n",
    "               \n",
    "        # Daromas pasirinktas žingsnis ir stebimi rezultatai\n",
    "        new_state, reward, done, info = env.step(action)\n",
    "        if reward == 100:\n",
    "            passNr += 1\n",
    "            \n",
    "        # naudojantis Q funkcija naujimana lentelė\n",
    "        qtable[state, action] = qtable[state, action] + learning_rate * (reward + gamma * np.max(qtable[new_state, :]) - qtable[state, action])\n",
    "        \n",
    "        total_rewards += reward\n",
    "        state = new_state\n",
    "        \n",
    "        # Jei tikslas pasiektas epizodas baigiamas\n",
    "        if done == True: \n",
    "            break\n",
    "        \n",
    "    # epsilon skaičiaus mažinimas, nes jau turime kažkiek išmoktos informacijos\n",
    "    epsilon = min_epsilon + (max_epsilon - min_epsilon)*np.exp(-decay_rate*episode) \n",
    "    rewards.append(total_rewards)\n",
    "    steps_total.append(step)\n",
    "    \n",
    "    if reward == 100 and episode>=(total_episodes-100):\n",
    "        passNrLast100 += 1\n",
    "        \n",
    "    if episode % 10000 == 0:\n",
    "        print('Episode: {} Reward: {} Episode reward: {} Steps Taken: {} Pasiekė tikslą: {}'.format(episode, reward, total_rewards, step, passNr))\n",
    "    \n",
    "    episode_count = episode + 1\n",
    "    if episode_count % 10000 == 0:\n",
    "        qtable_history.append(qtable)\n",
    "        score_history.append(sum(rewards)/episode_count)\n"
   ]
  },
  {
   "cell_type": "code",
   "execution_count": 6,
   "id": "e190a0ed-fd42-4252-abfe-a5b273fd822c",
   "metadata": {},
   "outputs": [
    {
     "name": "stdout",
     "output_type": "stream",
     "text": [
      "Epsilon pabaigoje: 0.8694888771634071\n"
     ]
    },
    {
     "data": {
      "image/png": "[encoded data removed]",
      "text/plain": [
       "<Figure size 432x288 with 1 Axes>"
      ]
     },
     "metadata": {
      "needs_background": "light"
     },
     "output_type": "display_data"
    },
    {
     "data": {
      "image/png": "[encoded data removed]",
      "text/plain": [
       "<Figure size 432x288 with 1 Axes>"
      ]
     },
     "metadata": {
      "needs_background": "light"
     },
     "output_type": "display_data"
    },
    {
     "name": "stdout",
     "output_type": "stream",
     "text": [
      "Dalis epizodų kurie pasiekė tikslą: 1.0\n",
      "Dalis epizodų kurie pasiekė tikslą (iš paskutinio 100 epizodų): 0.15\n",
      "Vidutinis žingsnių skaičius: 113.73\n",
      "Vidutinis žingsnių skaičius (iš paskutinio 100 epizodų): 17.06\n"
     ]
    }
   ],
   "source": [
    "# plt.plot(list(range(0, total_episodes+1, round((total_episodes+1)/len(score_history))))[1:], score_history)\n",
    "# plt.title(\"Apdovanojimų vidurkis lyginant su epizodų skaičiumi\")\n",
    "# plt.show()\n",
    "print('Epsilon pabaigoje: {}'.format(epsilon))\n",
    "\n",
    "plt.hist(steps_total, orientation=\"vertical\")\n",
    "plt.title(\"Žingsnių skaičius lyginant su epizodų skaičiumi\")\n",
    "plt.show()\n",
    "\n",
    "plt.hist(rewards, align='mid')\n",
    "plt.title(\"Apdovanojimų pasiskirstymas epizoduose\")\n",
    "plt.show()\n",
    "\n",
    "print(\"Dalis epizodų kurie pasiekė tikslą: {0}\".format(passNr/total_episodes))\n",
    "print(\"Dalis epizodų kurie pasiekė tikslą (iš paskutinio 100 epizodų): {0}\".format(passNrLast100/100))\n",
    "\n",
    "print(\"Vidutinis žingsnių skaičius: %.2f\" % (sum(steps_total)/total_episodes))\n",
    "print(\"Vidutinis žingsnių skaičius (iš paskutinio 100 epizodų): %.2f\" % (sum(steps_total[-100:])/100))"
   ]
  },
  {
   "cell_type": "code",
   "execution_count": 7,
   "id": "46a85ed6-df9c-4cd6-a453-12b24fea0c63",
   "metadata": {},
   "outputs": [
    {
     "name": "stdout",
     "output_type": "stream",
     "text": [
      "Trained model passed: 100 out of 100\n"
     ]
    }
   ],
   "source": [
    "## TESTAI\n",
    "\n",
    "env.reset()\n",
    "amountsPassed = 0 # kelintas testas leidžiamas dabar\n",
    "amountToTest = 100 # kiek testų bus leidžiama išvis\n",
    "steps_total_test = []\n",
    "for episode in range(amountToTest):\n",
    "    state = env.reset()\n",
    "    step = 1\n",
    "    done = False\n",
    "    # print(\"****************************************************\")\n",
    "    # print(\"EPISODE \", episode)\n",
    "    # env.render()\n",
    "    \n",
    "    for step in range(max_steps):\n",
    "        \n",
    "        # pasirenkamas geriausias (nešantis didžiausią apdovanojimą) galimas veiksmas naudojantis Q lentele\n",
    "        action = np.argmax(qtable[state,:])\n",
    "        new_state, reward, done, info = env.step(action)\n",
    "        # print(\"Reward\", reward)\n",
    "        # env.render()\n",
    "        if done:\n",
    "            if reward == 100: \n",
    "                amountsPassed += 1 # sekama kiek iš testų sėkmingai pasiekė tikslą\n",
    "            # env.render()\n",
    "            \n",
    "            # print(\"steps\", step)\n",
    "            steps_total_test.append(step)\n",
    "            break\n",
    "        state = new_state\n",
    "print(\"Apmokytas modelis teisingai išsprendė: \"+str(amountsPassed) + \" iš \" + str(amountToTest))\n",
    "env.close()"
   ]
  },
  {
   "cell_type": "code",
   "execution_count": 8,
   "id": "fd551219-1526-43c1-9752-1e94a8fcb90d",
   "metadata": {},
   "outputs": [
    {
     "data": {
      "image/png": "[encoded data removed]",
      "text/plain": [
       "<Figure size 432x288 with 1 Axes>"
      ]
     },
     "metadata": {
      "needs_background": "light"
     },
     "output_type": "display_data"
    },
    {
     "name": "stdout",
     "output_type": "stream",
     "text": [
      "Vidutinis žingsnių skaičius per testą: 5.00\n"
     ]
    }
   ],
   "source": [
    "plt.hist(steps_total_test, orientation=\"vertical\")\n",
    "plt.title(\"Žingsnių skaičius lyginant su epizodų skaičiumi\")\n",
    "plt.show()\n",
    "\n",
    "print(\"Vidutinis žingsnių skaičius per testą: %.2f\" % (sum(steps_total_test)/amountToTest))"
   ]
  },
  {
   "cell_type": "code",
   "execution_count": null,
   "id": "e86f5254-33a2-468c-8b54-07a24bb5ead2",
   "metadata": {},
   "outputs": [],
   "source": []
  }
 ],
 "metadata": {
  "kernelspec": {
   "display_name": "Python 3 (ipykernel)",
   "language": "python",
   "name": "python3"
  },
  "language_info": {
   "codemirror_mode": {
    "name": "ipython",
    "version": 3
   },
   "file_extension": ".py",
   "mimetype": "text/x-python",
   "name": "python",
   "nbconvert_exporter": "python",
   "pygments_lexer": "ipython3",
   "version": "3.7.4"
  }
 },
 "nbformat": 4,
 "nbformat_minor": 5
}
